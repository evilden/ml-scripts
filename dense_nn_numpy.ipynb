{
  "nbformat": 4,
  "nbformat_minor": 0,
  "metadata": {
    "colab": {
      "name": "my_backprop.ipynb",
      "provenance": []
    },
    "kernelspec": {
      "name": "python3",
      "display_name": "Python 3"
    },
    "language_info": {
      "name": "python"
    }
  },
  "cells": [
    {
      "cell_type": "markdown",
      "source": [
        "Links:\n",
        "\n",
        "\n",
        "*   https://towardsdatascience.com/lets-code-a-neural-network-in-plain-numpy-ae7e74410795\n",
        "\n"
      ],
      "metadata": {
        "id": "JaxQ6F16VBN5"
      }
    },
    {
      "cell_type": "code",
      "source": [
        "import numpy as np\n",
        "from matplotlib import pyplot as plt\n",
        "from sklearn.preprocessing import MinMaxScaler\n",
        "from sklearn.model_selection import train_test_split\n",
        "from sklearn.metrics import mean_squared_error\n",
        "\n",
        "\n",
        "def make_linear_dataset():\n",
        "  X = 2*np.random.rand(100,1)\n",
        "  y = 4 + 3*X + np.random.randn(100,1)\n",
        "  y = MinMaxScaler().fit_transform(y)\n",
        "  return X, y\n",
        "\n",
        "\n",
        "class OLSRegression:\n",
        "  def fit(self, X, y):\n",
        "    X1 = np.c_[np.ones((X.shape[0])), X]\n",
        "    self.W = np.linalg.inv(X1.T @ X1) @ X1.T @ y\n",
        "    return self\n",
        "\n",
        "  def predict(self, X):\n",
        "    X1 = np.c_[np.ones((X.shape[0])), X]\n",
        "    return X1 @ self.W\n",
        "\n",
        "\n",
        "np.random.seed(42)\n",
        "\n",
        "X, y = make_linear_dataset()\n",
        "X_train, X_valid, y_train, y_valid = train_test_split(X, y, test_size = 0.1)\n",
        "\n",
        "# let's sort for plotting\n",
        "valid_data = list(zip(X_valid, y_valid))\n",
        "valid_data_sorted = sorted(valid_data, key=lambda t: t[0][0])\n",
        "X_valid = np.array([x[0] for x in valid_data_sorted])\n",
        "y_valid = np.array([x[1] for x in valid_data_sorted])\n",
        "\n",
        "# OLS model for comparing with our Dense network\n",
        "ols_model = OLSRegression().fit(X_train, y_train)\n",
        "y_pred = ols_model.predict(X_valid)\n",
        "\n",
        "test_mse = round(mean_squared_error(y_valid, y_pred), 3)\n",
        "\n",
        "plt.figure(figsize=(20, 8))\n",
        "plt.plot(X_valid, y_pred, 'r-')\n",
        "plt.plot(X_valid, y_valid, 'b.')\n",
        "plt.xlabel('x')\n",
        "plt.ylabel('y')\n",
        "plt.title(f'MSE: {test_mse}')\n",
        "plt.axis([0,2,0,1])"
      ],
      "metadata": {
        "colab": {
          "base_uri": "https://localhost:8080/",
          "height": 531
        },
        "id": "3eUq5Fr_WKF0",
        "outputId": "ebebaf01-a1ef-46b6-e22a-287eae3a0582"
      },
      "execution_count": 1,
      "outputs": [
        {
          "output_type": "execute_result",
          "data": {
            "text/plain": [
              "(0.0, 2.0, 0.0, 1.0)"
            ]
          },
          "metadata": {},
          "execution_count": 1
        },
        {
          "output_type": "display_data",
          "data": {
            "image/png": "[encoded data removed]",
            "text/plain": [
              "<Figure size 1440x576 with 1 Axes>"
            ]
          },
          "metadata": {
            "needs_background": "light"
          }
        }
      ]
    },
    {
      "cell_type": "code",
      "source": [
        "sigmoid = lambda z: 1/(1+np.exp(-z))\n",
        "d_sigma = lambda z : np.cosh(z/2)**(-2) / 4\n",
        "\n",
        "class DenseNeuralNetwork:\n",
        "  \n",
        "  def __init__(self, nn_layers):\n",
        "    self.nn_layers = nn_layers\n",
        "    self._cache = {}\n",
        "    self._grads = {}\n",
        "    self.__init_params_rand()\n",
        "    \n",
        "\n",
        "  def __init_params_rand(self, seed=42):\n",
        "    np.random.seed(seed)\n",
        "    self.params_values = {}\n",
        "\n",
        "    for idx, layer in enumerate(self.nn_layers):\n",
        "      # we number layers from 1, to index input as a0\n",
        "      layer_idx = idx + 1 \n",
        "      layer_input_size = layer[\"input_dim\"]\n",
        "      layer_output_size = layer[\"output_dim\"]\n",
        "      \n",
        "      self.params_values['w' + str(layer_idx)] = np.random.randn(\n",
        "          layer_output_size, layer_input_size) * 0.1\n",
        "        \n",
        "      self.params_values['b' + str(layer_idx)] = np.random.randn(\n",
        "            layer_output_size, 1) * 0.1    \n",
        "  \n",
        "  def __call__(self, x):\n",
        "    return self.forward(x)\n",
        "\n",
        "  def forward(self, x, keep_cache=True):\n",
        "    # cache for backward step\n",
        "    if keep_cache:\n",
        "      self._cache.clear()\n",
        "    \n",
        "    a = x.T\n",
        "\n",
        "    for idx, layer in enumerate(self.nn_layers):\n",
        "      layer_idx = idx + 1\n",
        "      a_prev = a\n",
        "\n",
        "      w = self.params_values['w' + str(layer_idx)]\n",
        "      b = self.params_values['b' + str(layer_idx)]\n",
        "      z = w @ a_prev + b\n",
        "      a = sigmoid(z)\n",
        "      if keep_cache:\n",
        "        self._cache['a' + str(layer_idx-1)] = a_prev\n",
        "        self._cache['z' +str(layer_idx)] = z\n",
        "    # Transpose back\n",
        "    a = a.T\n",
        "    return a\n",
        "  \n",
        "  def backward(self, loss):\n",
        "    self._grads.clear()\n",
        "\n",
        "    loss = loss.T\n",
        "    num_samples = loss.shape[1]\n",
        "    da_prev = loss  \n",
        "    \n",
        "    for idx, layer in reversed(list(enumerate(self.nn_layers))):\n",
        "      layer_idx = idx + 1 \n",
        "      da = da_prev\n",
        "\n",
        "      a_prev = self._cache['a' + str(layer_idx-1)] \n",
        "      z = self._cache['z' + str(layer_idx)]\n",
        "      w = self.params_values['w' + str(layer_idx)]\n",
        "      \n",
        "      dz = da * d_sigma(z) \n",
        "      dw = dz @ a_prev.T / num_samples\n",
        "      db = np.sum(dz, axis=1, keepdims=True) / num_samples\n",
        "      da_prev = w.T @ dz\n",
        "      #print(db, dw)\n",
        "      self._grads['dw' + str(layer_idx)] = dw\n",
        "      self._grads['db' + str(layer_idx)] = db\n",
        "\n",
        "\n",
        "  def optimizer_step(self, lr):\n",
        "    for layer_idx, layer in enumerate(self.nn_layers, 1):\n",
        "      self.params_values['w' + str(layer_idx)] -= lr * self._grads['dw' + str(layer_idx)]\n",
        "      self.params_values['b' + str(layer_idx)] -= lr * self._grads['db' + str(layer_idx)]"
      ],
      "metadata": {
        "id": "cNCrmJMiVBu6"
      },
      "execution_count": 2,
      "outputs": []
    },
    {
      "cell_type": "code",
      "source": [
        "nn_layers = [\n",
        "    {\"input_dim\": 1, \"output_dim\": 4},\n",
        "    {\"input_dim\": 4, \"output_dim\": 1},\n",
        "]\n",
        "\n",
        "model = DenseNeuralNetwork(nn_layers)\n",
        "model.params_values\n",
        "\n",
        "predict = model(X[:2])\n",
        "print(model._cache)\n",
        "print(X[:2].shape)\n",
        "print(predict.shape)\n",
        "\n",
        "y_pred = model(X_valid)\n",
        "\n",
        "valid_mse = round(mean_squared_error(y_valid, y_pred), 3)\n",
        "\n",
        "plt.figure(figsize=(20, 8))\n",
        "plt.plot(X_valid, y_pred, 'r-')\n",
        "plt.plot(X_valid, y_valid, 'b.')\n",
        "plt.xlabel('x')\n",
        "plt.ylabel('y')\n",
        "plt.title(f'Before training MSE: {test_mse}')\n",
        "plt.axis([0,2,0,1])"
      ],
      "metadata": {
        "colab": {
          "base_uri": "https://localhost:8080/",
          "height": 695
        },
        "id": "TtcnJ1Qw3icS",
        "outputId": "88981f53-7a1d-491c-a4fa-43ac0e6e1ddf"
      },
      "execution_count": 3,
      "outputs": [
        {
          "output_type": "stream",
          "name": "stdout",
          "text": [
            "{'a0': array([[0.74908024, 1.90142861]]), 'z1': array([[ 0.01379254,  0.07103131],\n",
            "       [-0.0337708 , -0.04970367],\n",
            "       [ 0.20643835,  0.28107463],\n",
            "       [ 0.19083063,  0.36633673]]), 'a1': array([[0.50344808, 0.51775037],\n",
            "       [0.4915581 , 0.48757664],\n",
            "       [0.55142708, 0.56980966],\n",
            "       [0.5475634 , 0.59057351]]), 'z2': array([[-0.02382516, -0.02756762]])}\n",
            "(2, 1)\n",
            "(2, 1)\n"
          ]
        },
        {
          "output_type": "execute_result",
          "data": {
            "text/plain": [
              "(0.0, 2.0, 0.0, 1.0)"
            ]
          },
          "metadata": {},
          "execution_count": 3
        },
        {
          "output_type": "display_data",
          "data": {
            "image/png": "[encoded data removed]",
            "text/plain": [
              "<Figure size 1440x576 with 1 Axes>"
            ]
          },
          "metadata": {
            "needs_background": "light"
          }
        }
      ]
    },
    {
      "cell_type": "code",
      "source": [
        "def train(model, epochs, X_train, X_valid, y_train, y_valid, lr):\n",
        "  best_mse_val = 1\n",
        "  for epoch in range(epochs):\n",
        "    y_pred = model(X_train)\n",
        "    losses = 2*(y_pred - y_train)\n",
        "    model.backward(losses)\n",
        "    model.optimizer_step(lr)\n",
        "    train_mse = round(mean_squared_error(y_train, y_pred), 3)\n",
        "    \n",
        "    y_pred = model(X_valid)\n",
        "    valid_mse = round(mean_squared_error(y_valid, y_pred), 3)\n",
        "\n",
        "    if valid_mse < best_mse_val:\n",
        "      best_mse_val = valid_mse\n",
        "\n",
        "    if epoch % 100 == 0:  \n",
        "      print(f'Epoch: {epoch}, Train MSE:{train_mse}, Valid MSE:{valid_mse}, Best Valid MSE:{best_mse_val}')\n",
        "\n",
        "epochs = 1000\n",
        "lr = 10 # so big because data is normalized\n",
        "\n",
        "nn_layers = [\n",
        "    {\"input_dim\": 1, \"output_dim\": 8},\n",
        "    {\"input_dim\": 8, \"output_dim\": 1},\n",
        "]\n",
        "\n",
        "model = DenseNeuralNetwork(nn_layers)\n",
        "train(model, epochs, X_train, X_valid, y_train, y_valid, lr)"
      ],
      "metadata": {
        "colab": {
          "base_uri": "https://localhost:8080/"
        },
        "id": "ntzcMxl-Xs8Q",
        "outputId": "a6a3e49b-3bff-46e5-807d-2cafdd23e893"
      },
      "execution_count": 4,
      "outputs": [
        {
          "output_type": "stream",
          "name": "stdout",
          "text": [
            "Epoch: 0, Train MSE:0.055, Valid MSE:0.09, Best Valid MSE:0.09\n",
            "Epoch: 100, Train MSE:0.014, Valid MSE:0.014, Best Valid MSE:0.014\n",
            "Epoch: 200, Train MSE:0.016, Valid MSE:0.016, Best Valid MSE:0.014\n",
            "Epoch: 300, Train MSE:0.016, Valid MSE:0.016, Best Valid MSE:0.014\n",
            "Epoch: 400, Train MSE:0.015, Valid MSE:0.015, Best Valid MSE:0.014\n",
            "Epoch: 500, Train MSE:0.015, Valid MSE:0.015, Best Valid MSE:0.014\n",
            "Epoch: 600, Train MSE:0.014, Valid MSE:0.015, Best Valid MSE:0.014\n",
            "Epoch: 700, Train MSE:0.014, Valid MSE:0.014, Best Valid MSE:0.014\n",
            "Epoch: 800, Train MSE:0.013, Valid MSE:0.014, Best Valid MSE:0.013\n",
            "Epoch: 900, Train MSE:0.013, Valid MSE:0.014, Best Valid MSE:0.013\n"
          ]
        }
      ]
    },
    {
      "cell_type": "code",
      "source": [
        "y_pred = model(X_valid)\n",
        "\n",
        "valid_mse = round(mean_squared_error(y_valid, y_pred), 3)\n",
        "\n",
        "plt.figure(figsize=(20, 8))\n",
        "y_pred_sq = np.squeeze(y_pred)\n",
        "X_valid_sq = np.squeeze(X_valid)\n",
        "\n",
        "plt.plot(X_valid_sq, y_pred_sq, 'r-')\n",
        "# plt.plot(X_valid_sq, y_pred_sq, linestyle='solid',color='red')\n",
        "plt.plot(X_valid, y_valid, 'b.')\n",
        "plt.xlabel('x')\n",
        "plt.ylabel('y')\n",
        "plt.title(f'After training MSE: {valid_mse}')\n",
        "plt.axis([0,2,0,1])"
      ],
      "metadata": {
        "colab": {
          "base_uri": "https://localhost:8080/",
          "height": 531
        },
        "id": "V1gZ3D0Zdl-4",
        "outputId": "54a6a969-2a30-4977-a2ee-8506b7d29a68"
      },
      "execution_count": 7,
      "outputs": [
        {
          "output_type": "execute_result",
          "data": {
            "text/plain": [
              "(0.0, 2.0, 0.0, 1.0)"
            ]
          },
          "metadata": {},
          "execution_count": 7
        },
        {
          "output_type": "display_data",
          "data": {
            "image/png": "[encoded data removed]",
            "text/plain": [
              "<Figure size 1440x576 with 1 Axes>"
            ]
          },
          "metadata": {
            "needs_background": "light"
          }
        }
      ]
    },
    {
      "cell_type": "code",
      "source": [
        ""
      ],
      "metadata": {
        "id": "YipvTPdwJGFA"
      },
      "execution_count": 6,
      "outputs": []
    }
  ]
}